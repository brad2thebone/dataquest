{
 "cells": [
  {
   "cell_type": "code",
   "execution_count": 5,
   "metadata": {
    "collapsed": false
   },
   "outputs": [
    {
     "name": "stdout",
     "output_type": "stream",
     "text": [
      "[['Id', 'Year', 'Id', 'Sex', 'Id', 'Hispanic Origin', 'Id', 'Id2', 'Geography', 'Total', 'Race Alone - White', 'Race Alone - Hispanic', 'Race Alone - Black or African American', 'Race Alone - American Indian and Alaska Native', 'Race Alone - Asian', 'Race Alone - Native Hawaiian and Other Pacific Islander', 'Two or More Races'], ['cen42010', 'April 1, 2010 Census', 'totsex', 'Both Sexes', 'tothisp', 'Total', '0100000US', '', 'United States', '308745538', '197318956', '44618105', '40250635', '3739506', '15159516', '674625', '6984195']]\n"
     ]
    }
   ],
   "source": [
    "import csv\n",
    "import datetime\n",
    "f = open(\"guns.csv\", 'r')\n",
    "data = list(csv.reader(f))\n",
    "g = open(\"census.csv\", 'r')\n",
    "census = list(csv.reader(g))\n",
    "headers = data[0:1]\n",
    "#print(headers)\n",
    "data = data[1:len(data)]\n",
    "#print(data[0:5])\n",
    "#print(\"\")\n",
    "year_counts = {}\n",
    "for death in data:\n",
    "    if death[1] in year_counts:\n",
    "        year_counts[death[1]] += 1\n",
    "    else:\n",
    "        year_counts[death[1]] =1\n",
    "#print(year_counts)\n",
    "\n",
    "dates = []\n",
    "date_counts = {}\n",
    "#year_counts = {}\n",
    "dates = [datetime.datetime(year = int(row[1]), month = int(row[2]), day = 1) for row in data]\n",
    "#print(repr(dates[0:5]),\"\")\n",
    "#print((dates[0].date()))\n",
    "\n",
    "for row in dates:\n",
    "    if row.date() in date_counts:\n",
    "        date_counts[row.date()] += 1\n",
    "    else:\n",
    "        date_counts[row.date()] = 1\n",
    "\n",
    "#print(\"\")        \n",
    "#print(date_counts)\n",
    "\n",
    "sex_counts = {}\n",
    "for death in data:\n",
    "    if death[5] in sex_counts:\n",
    "        sex_counts[death[1]] += 1\n",
    "    else:\n",
    "        sex_counts[death[1]] =1\n",
    "#print(year_counts)\n",
    "\n",
    "def counts(column):\n",
    "    the_counts = {}\n",
    "    for death in data:\n",
    "        if death[column] in the_counts:\n",
    "            the_counts[death[column]] += 1\n",
    "        else:\n",
    "            the_counts[death[column]] =1\n",
    "    return(the_counts)\n",
    "\n",
    "sex_counts = counts(5)\n",
    "year_counts = counts(2)\n",
    "race_counts = counts(7)\n",
    "age_counts = counts(6)\n",
    "location_counts = counts(9)\n",
    "#print(\"sex_counts = \",sex_counts)\n",
    "#print(\"year_counts = \",year_counts)\n",
    "#print(\"race_counts = \",race_counts)\n",
    "#print(\"age_counts = \",age_counts)\n",
    "\n",
    "\n",
    "print(census)"
   ]
  },
  {
   "cell_type": "code",
   "execution_count": 6,
   "metadata": {
    "collapsed": false
   },
   "outputs": [
    {
     "name": "stdout",
     "output_type": "stream",
     "text": [
      "{'Black': 402.50635, 'Asian/Pacific Islander': 158.34141, 'Hispanic': 446.18105, 'Native American/Native Alaskan': 37.39506, 'White': 1973.18956}\n"
     ]
    }
   ],
   "source": [
    "mapping = {\n",
    "     'Asian/Pacific Islander': 15834141,\n",
    "     'Black': 40250635,\n",
    "     'Hispanic': 44618105,\n",
    "     'Native American/Native Alaskan': 3739506,\n",
    "     'White': 197318956\n",
    "}\n",
    "race_per_hundredk = {}\n",
    "for key in mapping:\n",
    "    race_per_hundredk[key] = mapping[key]/100000\n",
    "\n",
    "print(race_per_hundredk)"
   ]
  },
  {
   "cell_type": "code",
   "execution_count": 7,
   "metadata": {
    "collapsed": false
   },
   "outputs": [
    {
     "ename": "NameError",
     "evalue": "name 'races' is not defined",
     "output_type": "error",
     "traceback": [
      "\u001b[1;31m\u001b[0m",
      "\u001b[1;31mNameError\u001b[0mTraceback (most recent call last)",
      "\u001b[1;32m<ipython-input-7-7bf55ae5211c>\u001b[0m in \u001b[0;36m<module>\u001b[1;34m()\u001b[0m\n\u001b[0;32m      1\u001b[0m \u001b[0mhomicide_race_per_hundredk\u001b[0m \u001b[1;33m=\u001b[0m\u001b[1;33m{\u001b[0m\u001b[1;33m}\u001b[0m\u001b[1;33m\u001b[0m\u001b[0m\n\u001b[0;32m      2\u001b[0m \u001b[0mintents\u001b[0m \u001b[1;33m=\u001b[0m \u001b[1;33m[\u001b[0m\u001b[0mrow\u001b[0m\u001b[1;33m[\u001b[0m\u001b[1;36m3\u001b[0m\u001b[1;33m]\u001b[0m \u001b[1;32mfor\u001b[0m \u001b[0mrow\u001b[0m \u001b[1;32min\u001b[0m \u001b[0mdata\u001b[0m\u001b[1;33m]\u001b[0m\u001b[1;33m\u001b[0m\u001b[0m\n\u001b[1;32m----> 3\u001b[1;33m \u001b[1;32mfor\u001b[0m \u001b[0mi\u001b[0m\u001b[1;33m,\u001b[0m\u001b[0mrace\u001b[0m \u001b[1;32min\u001b[0m \u001b[0menumerate\u001b[0m\u001b[1;33m(\u001b[0m\u001b[0mraces\u001b[0m\u001b[1;33m)\u001b[0m\u001b[1;33m:\u001b[0m\u001b[1;33m\u001b[0m\u001b[0m\n\u001b[0m\u001b[0;32m      4\u001b[0m     \u001b[1;32mif\u001b[0m \u001b[0mrace\u001b[0m \u001b[1;32mnot\u001b[0m \u001b[1;32min\u001b[0m \u001b[0mhomicide_race_counts\u001b[0m\u001b[1;33m:\u001b[0m\u001b[1;33m\u001b[0m\u001b[0m\n\u001b[0;32m      5\u001b[0m         \u001b[0mhomicide_race_counts\u001b[0m\u001b[1;33m[\u001b[0m\u001b[0mrace\u001b[0m\u001b[1;33m]\u001b[0m \u001b[1;33m=\u001b[0m \u001b[1;36m0\u001b[0m\u001b[1;33m\u001b[0m\u001b[0m\n",
      "\u001b[1;31mNameError\u001b[0m: name 'races' is not defined"
     ]
    }
   ],
   "source": [
    "homicide_race_per_hundredk ={}\n",
    "intents = [row[3] for row in data]\n",
    "races = [row[7] for row]\n",
    "for i,race in enumerate(races):\n",
    "    if race not in homicide_race_counts:\n",
    "        homicide_race_counts[race] = 0\n",
    "    if intents[i] == \"Homicide\":\n",
    "        homicide_race_counts[race] += 1\n",
    "\n",
    "       \n",
    "for k,v in homicide_race_counts.items():\n",
    "    race_per_hundredk[k] = (v / mapping[k]) * 100000\n",
    "\n",
    "race_per_hundredk"
   ]
  },
  {
   "cell_type": "code",
   "execution_count": null,
   "metadata": {
    "collapsed": true
   },
   "outputs": [],
   "source": []
  }
 ],
 "metadata": {
  "kernelspec": {
   "display_name": "Python 3",
   "language": "python",
   "name": "python3"
  },
  "language_info": {
   "codemirror_mode": {
    "name": "ipython",
    "version": 3
   },
   "file_extension": ".py",
   "mimetype": "text/x-python",
   "name": "python",
   "nbconvert_exporter": "python",
   "pygments_lexer": "ipython3",
   "version": "3.4.3"
  }
 },
 "nbformat": 4,
 "nbformat_minor": 0
}
