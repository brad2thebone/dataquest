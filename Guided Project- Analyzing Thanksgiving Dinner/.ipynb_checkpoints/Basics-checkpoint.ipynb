{
 "cells": [
  {
   "cell_type": "code",
   "execution_count": 12,
   "metadata": {
    "collapsed": false
   },
   "outputs": [
    {
     "name": "stdout",
     "output_type": "stream",
     "text": [
      "Yes    0.926276\n",
      "No     0.073724\n",
      "Name: Do you celebrate Thanksgiving?, dtype: float64\n"
     ]
    }
   ],
   "source": [
    "import pandas as pd\n",
    "data = pd.read_csv(\"thanksgiving.csv\",encoding=\"Latin-1\")\n",
    "#data_yes = data.loc#[data[\"Do you celebrate Thanksgiving?\"] == \"Yes\"]\n",
    "#print(data_yes.shape())\n",
    "print(data[\"Do you celebrate Thanksgiving?\"].value_counts(\"Yes\"))\n",
    "\n"
   ]
  },
  {
   "cell_type": "code",
   "execution_count": 14,
   "metadata": {
    "collapsed": false
   },
   "outputs": [],
   "source": [
    "#print(data[data[\"What is typically the main dish at your Thanksgiving dinner?\"] == \"Tofurkey\"].ix[:, \"Do you typically have gravy?\"])"
   ]
  },
  {
   "cell_type": "code",
   "execution_count": 15,
   "metadata": {
    "collapsed": false
   },
   "outputs": [
    {
     "name": "stdout",
     "output_type": "stream",
     "text": [
      "False    876\n",
      "True     182\n",
      "dtype: int64\n"
     ]
    }
   ],
   "source": [
    "apple_isnull = data[\"Which type of pie is typically served at your Thanksgiving dinner? Please select all that apply. - Apple\"].isnull()\n",
    "pumpkin_isnull = data[\"Which type of pie is typically served at your Thanksgiving dinner? Please select all that apply. - Pumpkin\"].isnull()\n",
    "pecan_isnull = data[\"Which type of pie is typically served at your Thanksgiving dinner? Please select all that apply. - Pecan\"].isnull()\n",
    "\n",
    "no_pies = apple_isnull & pumpkin_isnull & pecan_isnull\n",
    "print(no_pies.value_counts())"
   ]
  },
  {
   "cell_type": "code",
   "execution_count": 22,
   "metadata": {
    "collapsed": false
   },
   "outputs": [
    {
     "name": "stdout",
     "output_type": "stream",
     "text": [
      "45.0    286\n",
      "60.0    264\n",
      "30.0    259\n",
      "18.0    216\n",
      "Name: int_age, dtype: int64\n"
     ]
    }
   ],
   "source": [
    "def extract_age(age_str):\n",
    "    if pd.isnull(age_str):\n",
    "        return None\n",
    "    age_str = age_str.split(\" \")[0]\n",
    "    age_str = age_str.replace(\"+\", \"\")\n",
    "    return int(age_str)\n",
    "\n",
    "data[\"int_age\"] = data[\"Age\"].apply(extract_age)\n",
    "data[\"int_age\"].describe()\n",
    "print(data[\"int_age\"].value_counts())"
   ]
  },
  {
   "cell_type": "code",
   "execution_count": 31,
   "metadata": {
    "collapsed": false
   },
   "outputs": [
    {
     "name": "stdout",
     "output_type": "stream",
     "text": [
      "$25,000 to $49,999      0.175610\n",
      "Prefer not to answer    0.132683\n",
      "$50,000 to $74,999      0.131707\n",
      "$75,000 to $99,999      0.129756\n",
      "$100,000 to $124,999    0.108293\n",
      "$200,000 and up         0.078049\n",
      "$10,000 to $24,999      0.066341\n",
      "$0 to $9,999            0.064390\n",
      "$125,000 to $149,999    0.047805\n",
      "$150,000 to $174,999    0.039024\n",
      "$175,000 to $199,999    0.026341\n",
      "Name: How much total combined money did all members of your HOUSEHOLD earn last year?, dtype: float64\n"
     ]
    }
   ],
   "source": [
    "def fix_money(mstr):\n",
    "    if pd.isnull(mstr):\n",
    "        return None\n",
    "    mstr = mstr.split(\" \")[0]\n",
    "    if mstr == \"Prefer\":\n",
    "        return None\n",
    "    mstr = mstr.replace(\"$\", \"\")\n",
    "    mstr = mstr.replace(\",\", \"\")\n",
    "    return int(mstr)\n",
    "\n",
    "data[\"int_income\"] = data[\"How much total combined money did all members of your HOUSEHOLD earn last year?\"].apply(fix_money)\n",
    "#print(data[\"int_income\"])\n",
    "#print(data[\"How much total combined money did all members of your HOUSEHOLD earn last year?\"])\n",
    "#print(data[\"int_income\"].value_counts())\n",
    "print(data[\"How much total combined money did all members of your HOUSEHOLD earn last year?\"].value_counts(normalize=True))\n"
   ]
  },
  {
   "cell_type": "markdown",
   "metadata": {},
   "source": [
    "13% \"Prefer not to answer\"\n",
    "Binning to the lowest value of the range may not be suitable for some analyses."
   ]
  },
  {
   "cell_type": "code",
   "execution_count": 36,
   "metadata": {
    "collapsed": false
   },
   "outputs": [
    {
     "data": {
      "text/plain": [
       "Thanksgiving is happening at my home--I won't travel at all                         0.407837\n",
       "Thanksgiving is local--it will take place in the town I live in                     0.294630\n",
       "Thanksgiving is out of town but not too far--it's a drive of a few hours or less    0.217707\n",
       "Thanksgiving is out of town and far away--I have to drive several hours or fly      0.079826\n",
       "Name: How far will you travel for Thanksgiving?, dtype: float64"
      ]
     },
     "execution_count": 36,
     "metadata": {},
     "output_type": "execute_result"
    }
   ],
   "source": [
    "data[data[\"int_income\"] < 150000][\"How far will you travel for Thanksgiving?\"].value_counts(normalize=True)"
   ]
  },
  {
   "cell_type": "code",
   "execution_count": 37,
   "metadata": {
    "collapsed": false
   },
   "outputs": [
    {
     "data": {
      "text/plain": [
       "Thanksgiving is happening at my home--I won't travel at all                         0.480392\n",
       "Thanksgiving is local--it will take place in the town I live in                     0.245098\n",
       "Thanksgiving is out of town but not too far--it's a drive of a few hours or less    0.156863\n",
       "Thanksgiving is out of town and far away--I have to drive several hours or fly      0.117647\n",
       "Name: How far will you travel for Thanksgiving?, dtype: float64"
      ]
     },
     "execution_count": 37,
     "metadata": {},
     "output_type": "execute_result"
    }
   ],
   "source": [
    "data[data[\"int_income\"] > 150000][\"How far will you travel for Thanksgiving?\"].value_counts(normalize=True)"
   ]
  },
  {
   "cell_type": "markdown",
   "metadata": {},
   "source": [
    "It seems like having money increases the relative ratio of people who either stay home or travel far away."
   ]
  },
  {
   "cell_type": "code",
   "execution_count": 42,
   "metadata": {
    "collapsed": false
   },
   "outputs": [
    {
     "data": {
      "text/html": [
       "<div>\n",
       "<table border=\"1\" class=\"dataframe\">\n",
       "  <thead>\n",
       "    <tr style=\"text-align: right;\">\n",
       "      <th>Have you ever attended a \"Friendsgiving?\"</th>\n",
       "      <th>No</th>\n",
       "      <th>Yes</th>\n",
       "    </tr>\n",
       "    <tr>\n",
       "      <th>Have you ever tried to meet up with hometown friends on Thanksgiving night?</th>\n",
       "      <th></th>\n",
       "      <th></th>\n",
       "    </tr>\n",
       "  </thead>\n",
       "  <tbody>\n",
       "    <tr>\n",
       "      <th>No</th>\n",
       "      <td>42.283702</td>\n",
       "      <td>37.010526</td>\n",
       "    </tr>\n",
       "    <tr>\n",
       "      <th>Yes</th>\n",
       "      <td>41.475410</td>\n",
       "      <td>33.976744</td>\n",
       "    </tr>\n",
       "  </tbody>\n",
       "</table>\n",
       "</div>"
      ],
      "text/plain": [
       "Have you ever attended a \"Friendsgiving?\"                  No        Yes\n",
       "Have you ever tried to meet up with hometown fr...                      \n",
       "No                                                  42.283702  37.010526\n",
       "Yes                                                 41.475410  33.976744"
      ]
     },
     "execution_count": 42,
     "metadata": {},
     "output_type": "execute_result"
    }
   ],
   "source": [
    "index1 = \"Have you ever tried to meet up with hometown friends on Thanksgiving night?\"\n",
    "columns1 = 'Have you ever attended a \"Friendsgiving?\"'\n",
    "data.pivot_table(index=index1, columns=columns1, values=\"int_age\")"
   ]
  },
  {
   "cell_type": "code",
   "execution_count": 43,
   "metadata": {
    "collapsed": false
   },
   "outputs": [
    {
     "data": {
      "text/html": [
       "<div>\n",
       "<table border=\"1\" class=\"dataframe\">\n",
       "  <thead>\n",
       "    <tr style=\"text-align: right;\">\n",
       "      <th>Have you ever attended a \"Friendsgiving?\"</th>\n",
       "      <th>No</th>\n",
       "      <th>Yes</th>\n",
       "    </tr>\n",
       "    <tr>\n",
       "      <th>Have you ever tried to meet up with hometown friends on Thanksgiving night?</th>\n",
       "      <th></th>\n",
       "      <th></th>\n",
       "    </tr>\n",
       "  </thead>\n",
       "  <tbody>\n",
       "    <tr>\n",
       "      <th>No</th>\n",
       "      <td>78914.549654</td>\n",
       "      <td>72894.736842</td>\n",
       "    </tr>\n",
       "    <tr>\n",
       "      <th>Yes</th>\n",
       "      <td>78750.000000</td>\n",
       "      <td>66019.736842</td>\n",
       "    </tr>\n",
       "  </tbody>\n",
       "</table>\n",
       "</div>"
      ],
      "text/plain": [
       "Have you ever attended a \"Friendsgiving?\"                     No           Yes\n",
       "Have you ever tried to meet up with hometown fr...                            \n",
       "No                                                  78914.549654  72894.736842\n",
       "Yes                                                 78750.000000  66019.736842"
      ]
     },
     "execution_count": 43,
     "metadata": {},
     "output_type": "execute_result"
    }
   ],
   "source": [
    "data.pivot_table(index=index1, columns=columns1, values=\"int_income\")"
   ]
  },
  {
   "cell_type": "markdown",
   "metadata": {},
   "source": [
    "According to the age and income bin analysis, those who have not been to \"FG\", have higher incomes on average. Those who have been to \"FG\" and who have tried to meet up with home town friends, have lower incomes on average. This really only suggests that lower income people are more likely to answer \"Yes\" to both questions than those who answer \"No\" to either."
   ]
  }
 ],
 "metadata": {
  "kernelspec": {
   "display_name": "Python 3",
   "language": "python",
   "name": "python3"
  },
  "language_info": {
   "codemirror_mode": {
    "name": "ipython",
    "version": 3
   },
   "file_extension": ".py",
   "mimetype": "text/x-python",
   "name": "python",
   "nbconvert_exporter": "python",
   "pygments_lexer": "ipython3",
   "version": "3.4.3"
  }
 },
 "nbformat": 4,
 "nbformat_minor": 0
}
